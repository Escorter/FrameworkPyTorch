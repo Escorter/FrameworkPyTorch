{
 "cells": [
  {
   "cell_type": "markdown",
   "metadata": {},
   "source": [
    "### Домашняя работа к Уроку 2\n",
    "### Студент: Абрамов А.В."
   ]
  },
  {
   "cell_type": "markdown",
   "metadata": {},
   "source": [
    "### Feed-forward сети\n",
    "\n",
    "Итак, давайте потренируемся тренировать нейронные сети прямого распространения (так как делали на паре)\n",
    "При этом попробуем создать свою функцию активации на одном из слоев"
   ]
  },
  {
   "cell_type": "code",
   "execution_count": 1,
   "metadata": {
    "ExecuteTime": {
     "end_time": "2023-10-29T11:18:45.176388Z",
     "start_time": "2023-10-29T11:18:42.404367Z"
    }
   },
   "outputs": [],
   "source": [
    "# Сделаем необходимые импорты\n",
    "\n",
    "import torch\n",
    "import numpy as np\n",
    "import torch.nn.functional as F\n",
    "from torch import nn\n",
    "import torchvision\n",
    "import matplotlib.pyplot as plt\n",
    "import torchvision.transforms as transforms\n",
    "from torch import optim\n",
    "from IPython.display import clear_output\n",
    "import time"
   ]
  },
  {
   "cell_type": "code",
   "execution_count": 2,
   "metadata": {
    "ExecuteTime": {
     "end_time": "2023-10-29T11:23:32.817057Z",
     "start_time": "2023-10-29T11:23:04.436042Z"
    }
   },
   "outputs": [
    {
     "name": "stdout",
     "output_type": "stream",
     "text": [
      "Downloading https://www.cs.toronto.edu/~kriz/cifar-10-python.tar.gz to data/cifar-10-python.tar.gz\n"
     ]
    },
    {
     "name": "stderr",
     "output_type": "stream",
     "text": [
      "100%|███████████████████████████████████████████████████████████████| 170498071/170498071 [00:24<00:00, 6930151.38it/s]\n"
     ]
    },
    {
     "name": "stdout",
     "output_type": "stream",
     "text": [
      "Extracting data/cifar-10-python.tar.gz to data/\n",
      "Files already downloaded and verified\n"
     ]
    }
   ],
   "source": [
    "# Загрузим датасет CIFAR-100, сразу же создадим dataloader для него\n",
    "# Если вам не хватает вычислительных ресурсов, то можно вернуться к CIFAR-10\n",
    "\n",
    "train_dataset = torchvision.datasets.CIFAR10(root='data/',\n",
    "                                             train=True,  \n",
    "                                             transform=transforms.ToTensor(),\n",
    "                                             download=True)\n",
    "train_loader = torch.utils.data.DataLoader(dataset=train_dataset,\n",
    "                                           batch_size=64, \n",
    "                                           shuffle=True)\n",
    "\n",
    "\n",
    "test_dataset = torchvision.datasets.CIFAR10(root='./data', \n",
    "                                            train=False,\n",
    "                                            transform=transforms.ToTensor(),\n",
    "                                            download=True,)\n",
    "test_loader = torch.utils.data.DataLoader(test_dataset, \n",
    "                                          batch_size=8,\n",
    "                                          shuffle=False)\n",
    "\n",
    "classes = ('plane', 'car', 'bird', 'cat',\n",
    "           'deer', 'dog', 'frog', 'horse', 'ship', 'truck')"
   ]
  },
  {
   "cell_type": "code",
   "execution_count": 39,
   "metadata": {
    "ExecuteTime": {
     "end_time": "2023-10-29T13:04:34.249842Z",
     "start_time": "2023-10-29T13:04:34.232887Z"
    }
   },
   "outputs": [
    {
     "name": "stdout",
     "output_type": "stream",
     "text": [
      "torch.Size([3, 32, 32])\n",
      "7\n"
     ]
    }
   ],
   "source": [
    "image, label = train_dataset[7]\n",
    "print(image.size())\n",
    "print(label)"
   ]
  },
  {
   "cell_type": "code",
   "execution_count": 38,
   "metadata": {
    "ExecuteTime": {
     "end_time": "2023-10-29T13:03:35.161990Z",
     "start_time": "2023-10-29T13:03:34.991512Z"
    }
   },
   "outputs": [
    {
     "data": {
      "image/png": "[encoded data removed]",
      "text/plain": [
       "<Figure size 640x480 with 1 Axes>"
      ]
     },
     "metadata": {},
     "output_type": "display_data"
    }
   ],
   "source": [
    "plt.title('Лошадка')\n",
    "plt.imshow(image.permute(1, 2, 0).numpy());"
   ]
  },
  {
   "cell_type": "code",
   "execution_count": 52,
   "metadata": {
    "ExecuteTime": {
     "end_time": "2023-10-29T13:23:58.168413Z",
     "start_time": "2023-10-29T13:23:58.137531Z"
    }
   },
   "outputs": [],
   "source": [
    "# Создайте собственную архитектуру! Можете использовать все, что угодно,\n",
    "# но в ограничении на использование линейные слои (пока без сверток)\n",
    "\n",
    "class Neuronet(nn.Module):\n",
    "    \n",
    "    def __init__(self, input_n, hidden_n, output_n):\n",
    "        super().__init__()\n",
    "        self.fc1 = nn.Linear(input_n, 4 * hidden_n, bias=True)      # first full-connected layer\n",
    "        self.fc2 = nn.Linear(4 * hidden_n, 2 * hidden_n, bias=True) # second full-connected layer\n",
    "        self.fc3 = nn.Linear(2 * hidden_n, hidden_n, bias=True)     # third full-connected layer\n",
    "        self.fc4 = nn.Linear(hidden_n, output_n, bias=True)         # fourth full-connected layer\n",
    "        \n",
    "    # Давайте добавим ограниченный Leaky_relu, то есть output = max(0.1x, 0.5x)\n",
    "    # Ваша задача добавить его в архитектуру сети как функцию активации\n",
    "    def leaky_relu_modif(self, x):\n",
    "        return torch.max(x * 0.1, x * 0.5)\n",
    "    \n",
    "    def forward(self, x):\n",
    "        x = x.view(x.shape[0], -1)\n",
    "        x = self.fc1(x)\n",
    "        x = self.leaky_relu_modif(x)\n",
    "        x = self.fc2(x)\n",
    "        x = self.leaky_relu_modif(x)\n",
    "        x = self.fc3(x)\n",
    "        x = self.leaky_relu_modif(x)\n",
    "        x = self.fc4(x)\n",
    "        return x\n",
    "    \n",
    "    def predict(self, x):\n",
    "        x = x.view(x.shape[0], -1)\n",
    "        x = self.fc1(x)\n",
    "        x = self.leaky_relu_modif(x)\n",
    "        x = self.fc2(x)\n",
    "        x = self.leaky_relu_modif(x)\n",
    "        x = self.fc3(x)\n",
    "        x = self.leaky_relu_modif(x)\n",
    "        x = self.fc4(x)\n",
    "        x = F.softmax(x)\n",
    "        \n",
    "def get_model(net = Neuronet(3072, 100, 10), optimizer_type = 12, show_the_learning_process = True):\n",
    "    net.train()\n",
    "    criterion = nn.CrossEntropyLoss()\n",
    "    \n",
    "    torch_optimizer = [optim.Adadelta(net.parameters(), lr=0.01),\n",
    "                       optim.Adagrad(net.parameters(), lr=0.01),\n",
    "                       optim.Adam(net.parameters(), lr=0.01),\n",
    "                       optim.AdamW(net.parameters(), lr=0.01),\n",
    "                       optim.SparseAdam(net.parameters(), lr=0.01),\n",
    "                       optim.Adamax(net.parameters(), lr=0.01),\n",
    "                       optim.ASGD(net.parameters(), lr=0.01),\n",
    "                       optim.LBFGS(net.parameters(), lr=0.01),\n",
    "                       optim.NAdam(net.parameters(), lr=0.01),\n",
    "                       optim.RAdam(net.parameters(), lr=0.01),\n",
    "                       optim.RMSprop(net.parameters(), lr=0.01, momentum=0.0),\n",
    "                       optim.Rprop(net.parameters(), lr=0.01),\n",
    "                       optim.SGD(net.parameters(), lr=0.01, momentum=0.0)]\n",
    "    \n",
    "    optimizer = torch_optimizer[optimizer_type]\n",
    "    epochs = 5\n",
    "    \n",
    "    for epoch in range(epochs):\n",
    "        running_loss = 0.0\n",
    "        running_items = 0.0\n",
    "        for i, data in enumerate(train_loader):\n",
    "            inputs, labels = data[0], data[1]\n",
    "        # Обнуляем градиент перед вычислением лосса и шагом обновления весов\n",
    "        optimizer.zero_grad()\n",
    "        # Делаем предсказание\n",
    "        outputs = net(inputs)\n",
    "        # Вычисляем лосс-функцию на обучающей выборке\n",
    "        loss = criterion(outputs, labels)\n",
    "        # Делаем шаг назад по лоссу\n",
    "        loss.backward()\n",
    "        # Считаем градиент для каждого веса в нейронной сети и делаем шаг обновления весов с помощью optimizer.step()\n",
    "        optimizer.step()\n",
    "        # выводим статистику о процессе обучения\n",
    "        running_loss += loss.item()\n",
    "        running_items += len(labels)\n",
    "        if show_the_learning_process == True:\n",
    "        # Выводим статистику обучения после каждых 300 mini-batches\n",
    "            if i % 300 == 0:   \n",
    "                print(f'Epoch [{epoch + 1}/{num_epochs}]. ' \\\n",
    "                      f'Step [{i + 1}/{len(train_loader)}]. ' \\\n",
    "                      f'Loss: {running_loss / running_items:.3f}')\n",
    "                running_loss, running_items = 0.0, 0.0\n",
    "    if show_the_learning_process == True:\n",
    "        print('Training is finished!')\n",
    "    return net\n",
    "\n",
    "\n",
    "# проверка точности предсказания на обучающей выборке после обучения\n",
    "\n",
    "def check_model(net):\n",
    "    result = []\n",
    "    for i, data in enumerate(train_loader):\n",
    "        inputs, labels = data[0], data[1]\n",
    "        predicted = torch.max(net(inputs), 1).indices\n",
    "        result.append(int((predicted == labels).sum())/len(labels))\n",
    "    # Возвращаем среднюю точность предсказания\n",
    "    print(f'Средняя точность составляет: {round(sum(result)/len(result), 4)}')\n",
    "    return sum(result)/len(result)       "
   ]
  },
  {
   "cell_type": "code",
   "execution_count": 53,
   "metadata": {
    "ExecuteTime": {
     "end_time": "2023-10-29T13:24:36.373056Z",
     "start_time": "2023-10-29T13:24:01.856269Z"
    }
   },
   "outputs": [
    {
     "name": "stdout",
     "output_type": "stream",
     "text": [
      "Training is finished!\n",
      "Средняя точность составляет: 0.1001\n"
     ]
    }
   ],
   "source": [
    "# Запустить обучение (по аналогии с тем, что делали на паре)\n",
    "\n",
    "model = get_model(show_the_learning_process = True)\n",
    "r = check_model(model)"
   ]
  }
 ],
 "metadata": {
  "kernelspec": {
   "display_name": "Python 3 (ipykernel)",
   "language": "python",
   "name": "python3"
  },
  "language_info": {
   "codemirror_mode": {
    "name": "ipython",
    "version": 3
   },
   "file_extension": ".py",
   "mimetype": "text/x-python",
   "name": "python",
   "nbconvert_exporter": "python",
   "pygments_lexer": "ipython3",
   "version": "3.9.17"
  },
  "varInspector": {
   "cols": {
    "lenName": 16,
    "lenType": 16,
    "lenVar": 40
   },
   "kernels_config": {
    "python": {
     "delete_cmd_postfix": "",
     "delete_cmd_prefix": "del ",
     "library": "var_list.py",
     "varRefreshCmd": "print(var_dic_list())"
    },
    "r": {
     "delete_cmd_postfix": ") ",
     "delete_cmd_prefix": "rm(",
     "library": "var_list.r",
     "varRefreshCmd": "cat(var_dic_list()) "
    }
   },
   "types_to_exclude": [
    "module",
    "function",
    "builtin_function_or_method",
    "instance",
    "_Feature"
   ],
   "window_display": false
  }
 },
 "nbformat": 4,
 "nbformat_minor": 2
}
