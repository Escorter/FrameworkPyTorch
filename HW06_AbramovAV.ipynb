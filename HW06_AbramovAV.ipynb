{
 "cells": [
  {
   "cell_type": "markdown",
   "id": "51fddf66",
   "metadata": {},
   "source": [
    "### Домашняя работа к уроку 6\n",
    "### Студент: Абрамов А.В."
   ]
  },
  {
   "cell_type": "code",
   "execution_count": 1,
   "id": "dcf2fe3b",
   "metadata": {
    "ExecuteTime": {
     "end_time": "2023-11-20T19:43:37.768132Z",
     "start_time": "2023-11-20T19:43:31.229836Z"
    }
   },
   "outputs": [
    {
     "name": "stderr",
     "output_type": "stream",
     "text": [
      "[nltk_data] Downloading package punkt to\n",
      "[nltk_data]     C:\\Users\\User\\AppData\\Roaming\\nltk_data...\n",
      "[nltk_data]   Package punkt is already up-to-date!\n"
     ]
    }
   ],
   "source": [
    "import pandas as pd\n",
    "import numpy as np\n",
    "from sklearn.model_selection import train_test_split\n",
    "from string import punctuation\n",
    "from stop_words import get_stop_words\n",
    "from pymorphy2 import MorphAnalyzer\n",
    "import re\n",
    "import spacy\n",
    "from tqdm import tqdm \n",
    "tqdm.pandas()\n",
    "import nltk\n",
    "from nltk.tokenize import word_tokenize\n",
    "nltk.download(\"punkt\")\n",
    "from nltk.probability import FreqDist\n",
    "import torch\n",
    "import torch.nn as nn\n",
    "import torch.nn.functional as F\n",
    "from torch.utils.data import DataLoader, Dataset\n",
    "import matplotlib.pyplot as plt"
   ]
  },
  {
   "cell_type": "code",
   "execution_count": 2,
   "id": "475889e6",
   "metadata": {
    "ExecuteTime": {
     "end_time": "2023-11-20T19:43:46.228770Z",
     "start_time": "2023-11-20T19:43:46.157292Z"
    }
   },
   "outputs": [],
   "source": [
    "df = pd.read_csv(\"train.csv\")"
   ]
  },
  {
   "cell_type": "code",
   "execution_count": 3,
   "id": "990ffa84",
   "metadata": {
    "ExecuteTime": {
     "end_time": "2023-11-20T19:43:51.444924Z",
     "start_time": "2023-11-20T19:43:51.429984Z"
    }
   },
   "outputs": [
    {
     "data": {
      "text/html": [
       "<div>\n",
       "<style scoped>\n",
       "    .dataframe tbody tr th:only-of-type {\n",
       "        vertical-align: middle;\n",
       "    }\n",
       "\n",
       "    .dataframe tbody tr th {\n",
       "        vertical-align: top;\n",
       "    }\n",
       "\n",
       "    .dataframe thead th {\n",
       "        text-align: right;\n",
       "    }\n",
       "</style>\n",
       "<table border=\"1\" class=\"dataframe\">\n",
       "  <thead>\n",
       "    <tr style=\"text-align: right;\">\n",
       "      <th></th>\n",
       "      <th>id</th>\n",
       "      <th>label</th>\n",
       "      <th>tweet</th>\n",
       "    </tr>\n",
       "  </thead>\n",
       "  <tbody>\n",
       "    <tr>\n",
       "      <th>0</th>\n",
       "      <td>1</td>\n",
       "      <td>0</td>\n",
       "      <td>@user when a father is dysfunctional and is s...</td>\n",
       "    </tr>\n",
       "    <tr>\n",
       "      <th>1</th>\n",
       "      <td>2</td>\n",
       "      <td>0</td>\n",
       "      <td>@user @user thanks for #lyft credit i can't us...</td>\n",
       "    </tr>\n",
       "    <tr>\n",
       "      <th>2</th>\n",
       "      <td>3</td>\n",
       "      <td>0</td>\n",
       "      <td>bihday your majesty</td>\n",
       "    </tr>\n",
       "    <tr>\n",
       "      <th>3</th>\n",
       "      <td>4</td>\n",
       "      <td>0</td>\n",
       "      <td>#model   i love u take with u all the time in ...</td>\n",
       "    </tr>\n",
       "    <tr>\n",
       "      <th>4</th>\n",
       "      <td>5</td>\n",
       "      <td>0</td>\n",
       "      <td>factsguide: society now    #motivation</td>\n",
       "    </tr>\n",
       "  </tbody>\n",
       "</table>\n",
       "</div>"
      ],
      "text/plain": [
       "   id  label                                              tweet\n",
       "0   1      0   @user when a father is dysfunctional and is s...\n",
       "1   2      0  @user @user thanks for #lyft credit i can't us...\n",
       "2   3      0                                bihday your majesty\n",
       "3   4      0  #model   i love u take with u all the time in ...\n",
       "4   5      0             factsguide: society now    #motivation"
      ]
     },
     "execution_count": 3,
     "metadata": {},
     "output_type": "execute_result"
    }
   ],
   "source": [
    "df.head()"
   ]
  },
  {
   "cell_type": "code",
   "execution_count": 4,
   "id": "b541b13b",
   "metadata": {
    "ExecuteTime": {
     "end_time": "2023-11-20T19:43:52.553901Z",
     "start_time": "2023-11-20T19:43:52.541936Z"
    }
   },
   "outputs": [
    {
     "data": {
      "text/plain": [
       "label\n",
       "0    29720\n",
       "1     2242\n",
       "Name: count, dtype: int64"
      ]
     },
     "execution_count": 4,
     "metadata": {},
     "output_type": "execute_result"
    }
   ],
   "source": [
    "df['label'].value_counts() # несбалансированный датасет"
   ]
  },
  {
   "cell_type": "code",
   "execution_count": 5,
   "id": "2bda4932",
   "metadata": {
    "ExecuteTime": {
     "end_time": "2023-11-20T19:43:54.795365Z",
     "start_time": "2023-11-20T19:43:54.773499Z"
    }
   },
   "outputs": [],
   "source": [
    "df_train, df_test = train_test_split(df, test_size=0.3, shuffle=True, stratify=df['label'], random_state=42)"
   ]
  },
  {
   "cell_type": "code",
   "execution_count": 6,
   "id": "b9628c28",
   "metadata": {
    "ExecuteTime": {
     "end_time": "2023-11-20T19:43:55.229037Z",
     "start_time": "2023-11-20T19:43:55.221050Z"
    }
   },
   "outputs": [
    {
     "data": {
      "text/plain": [
       "(label\n",
       " 0    20804\n",
       " 1     1569\n",
       " Name: count, dtype: int64,\n",
       " label\n",
       " 0    8916\n",
       " 1     673\n",
       " Name: count, dtype: int64)"
      ]
     },
     "execution_count": 6,
     "metadata": {},
     "output_type": "execute_result"
    }
   ],
   "source": [
    "df_train['label'].value_counts(), df_test['label'].value_counts()"
   ]
  },
  {
   "cell_type": "code",
   "execution_count": 7,
   "id": "a13bb347",
   "metadata": {
    "ExecuteTime": {
     "end_time": "2023-11-20T19:43:56.224299Z",
     "start_time": "2023-11-20T19:43:55.782028Z"
    }
   },
   "outputs": [],
   "source": [
    "sw = set(get_stop_words(\"english\"))\n",
    "puncts = set(punctuation)\n",
    "nlp = spacy.load(\"en_core_web_sm\", disable=['parser', 'ner'])"
   ]
  },
  {
   "cell_type": "code",
   "execution_count": 8,
   "id": "fcb2dc56",
   "metadata": {
    "ExecuteTime": {
     "end_time": "2023-11-20T19:43:57.210005Z",
     "start_time": "2023-11-20T19:43:57.197042Z"
    }
   },
   "outputs": [],
   "source": [
    "def preprocess_text(txt):\n",
    "  txt = str(txt)\n",
    "  txt = \"\".join(c for c in txt if c not in puncts)\n",
    "  txt = txt.lower()\n",
    "  txt = re.sub(\"not\\s\", \"not\", txt)\n",
    "  txt = re.sub(\"dont\\s\", \"dont\", txt)\n",
    "  txt = re.sub(\"doesnt\\s\", \"doesnt\", txt)\n",
    "  txt = re.sub(\"didnt\\s\", \"didnt\", txt)\n",
    "  txt = re.sub(\"havent\\s\", \"havent\", txt)\n",
    "  txt = re.sub(\"hasnt\\s\", \"hasnt\", txt)\n",
    "  txt = nlp(txt)\n",
    "  txt = [word.lemma_ for word in txt if word not in sw]\n",
    "  return \" \".join(txt)"
   ]
  },
  {
   "cell_type": "code",
   "execution_count": 9,
   "id": "04efaf30",
   "metadata": {
    "ExecuteTime": {
     "end_time": "2023-11-20T19:43:59.129215Z",
     "start_time": "2023-11-20T19:43:59.117245Z"
    }
   },
   "outputs": [
    {
     "data": {
      "text/plain": [
       "array(['happy bihday to my brother man. needed this mixtape like we need boos. have a good one sach   @user '],\n",
       "      dtype=object)"
      ]
     },
     "execution_count": 9,
     "metadata": {},
     "output_type": "execute_result"
    }
   ],
   "source": [
    "df_train['tweet'].iloc[:1].values"
   ]
  },
  {
   "cell_type": "code",
   "execution_count": 10,
   "id": "c1a43b90",
   "metadata": {
    "ExecuteTime": {
     "end_time": "2023-11-20T19:45:12.346117Z",
     "start_time": "2023-11-20T19:43:59.613058Z"
    }
   },
   "outputs": [
    {
     "name": "stderr",
     "output_type": "stream",
     "text": [
      "100%|███████████████████████████████████████████████████████████████████████████| 22373/22373 [00:51<00:00, 434.40it/s]\n",
      "100%|█████████████████████████████████████████████████████████████████████████████| 9589/9589 [00:21<00:00, 451.96it/s]\n"
     ]
    }
   ],
   "source": [
    "df_train['tweet'] = df_train['tweet'].progress_apply(preprocess_text)\n",
    "df_test['tweet'] = df_test['tweet'].progress_apply(preprocess_text)"
   ]
  },
  {
   "cell_type": "code",
   "execution_count": 11,
   "id": "04847702",
   "metadata": {
    "ExecuteTime": {
     "end_time": "2023-11-20T19:45:27.448009Z",
     "start_time": "2023-11-20T19:45:27.422052Z"
    }
   },
   "outputs": [],
   "source": [
    "train_corpus = \" \".join(df_train[\"tweet\"])\n",
    "train_corpus = train_corpus.lower()"
   ]
  },
  {
   "cell_type": "code",
   "execution_count": 12,
   "id": "e10dd6c1",
   "metadata": {
    "ExecuteTime": {
     "end_time": "2023-11-20T19:45:28.682053Z",
     "start_time": "2023-11-20T19:45:28.678043Z"
    }
   },
   "outputs": [],
   "source": [
    "def text_to_sequence(text, maxlen, vocabulary):\n",
    "    result = []\n",
    "    tokens = word_tokenize(text.lower())\n",
    "    tokens_filtered = [word for word in tokens if word.isalnum()]\n",
    "    for word in tokens_filtered:\n",
    "        if word in vocabulary:\n",
    "            result.append(vocabulary[word])\n",
    "\n",
    "    padding = [0] * (maxlen-len(result))\n",
    "    return result[-maxlen:] + padding"
   ]
  },
  {
   "cell_type": "code",
   "execution_count": 13,
   "id": "46a6d2bc",
   "metadata": {
    "ExecuteTime": {
     "end_time": "2023-11-20T19:45:30.093017Z",
     "start_time": "2023-11-20T19:45:30.078058Z"
    }
   },
   "outputs": [],
   "source": [
    "# Инициализация нейросети\n",
    "\n",
    "class Net(nn.Module):\n",
    "    def __init__(self, vocab_size=2000, embedding_dim=128, out_channel=128, num_classes=1):\n",
    "        super().__init__()\n",
    "        self.embedding = nn.Embedding(vocab_size, embedding_dim)\n",
    "        self.conv_1 = nn.Conv1d(embedding_dim, out_channel, kernel_size=2)\n",
    "        self.conv_2 = nn.Conv1d(embedding_dim, out_channel, kernel_size=3)\n",
    "        self.pool = nn.MaxPool1d(2)\n",
    "        self.relu = nn.ReLU()\n",
    "        self.linear_1 = nn.Linear(out_channel, out_channel // 2)\n",
    "        self.linear_2 = nn.Linear(out_channel // 2, num_classes)\n",
    "        \n",
    "    def forward(self, x):        \n",
    "        output = self.embedding(x) # B, L, E\n",
    "        #                       B  E  L         \n",
    "        output = output.permute(0, 2, 1)\n",
    "        output = self.conv_1(output)\n",
    "        output = self.relu(output)\n",
    "        output = self.pool(output)\n",
    "\n",
    "        output = self.conv_2(output)\n",
    "        output = self.relu(output)\n",
    "        output = self.pool(output)\n",
    "        output = torch.max(output, axis=2).values\n",
    "        output = self.linear_1(output)\n",
    "        output = self.relu(output)\n",
    "        output = self.linear_2(output)\n",
    "        output = F.sigmoid(output)\n",
    "        return output"
   ]
  },
  {
   "cell_type": "code",
   "execution_count": 14,
   "id": "5d5e2de5",
   "metadata": {
    "ExecuteTime": {
     "end_time": "2023-11-20T19:45:32.109990Z",
     "start_time": "2023-11-20T19:45:32.093917Z"
    }
   },
   "outputs": [],
   "source": [
    "# Датасет\n",
    "\n",
    "class DataWrapper(Dataset):\n",
    "    def __init__(self, data, target, transform=None):\n",
    "        self.data = torch.from_numpy(data).long()\n",
    "        self.target = torch.from_numpy(target).long()\n",
    "        self.transform = transform\n",
    "        \n",
    "    def __getitem__(self, index):\n",
    "        x = self.data[index]\n",
    "        y = self.target[index]\n",
    "        \n",
    "        if self.transform:\n",
    "            x = self.transform(x)\n",
    "            \n",
    "        return x, y\n",
    "    \n",
    "    def __len__(self):\n",
    "        return len(self.data)"
   ]
  },
  {
   "cell_type": "code",
   "execution_count": 15,
   "id": "32487277",
   "metadata": {
    "ExecuteTime": {
     "end_time": "2023-11-20T19:46:02.693017Z",
     "start_time": "2023-11-20T19:46:02.678059Z"
    }
   },
   "outputs": [],
   "source": [
    "def get_loaders(max_words=2000, max_len=20):\n",
    "\n",
    "    tokens = word_tokenize(train_corpus)\n",
    "    tokens_filtered = [word for word in tokens if word.isalnum()]\n",
    "    dist = FreqDist(tokens_filtered)\n",
    "    tokens_filtered_top = [pair[0] for pair in dist.most_common(max_words-1)]\n",
    "    vocabulary = {v: k for k, v in dict(enumerate(tokens_filtered_top, 1)).items()}\n",
    "\n",
    "    x_train = np.asarray([text_to_sequence(text, max_len, vocabulary) for text in df_train[\"tweet\"]])\n",
    "    x_test = np.asarray([text_to_sequence(text, max_len, vocabulary) for text in df_test[\"tweet\"]])\n",
    "\n",
    "    train_dataset = DataWrapper(x_train, df_train['label'].values)\n",
    "    train_loader = DataLoader(train_dataset, batch_size=512, shuffle=True)\n",
    "\n",
    "    test_dataset = DataWrapper(x_test, df_test['label'].values)\n",
    "    test_loader = DataLoader(test_dataset, batch_size=8, shuffle=True)\n",
    "    return train_loader, test_loader"
   ]
  },
  {
   "cell_type": "code",
   "execution_count": 16,
   "id": "363b354c",
   "metadata": {
    "ExecuteTime": {
     "end_time": "2023-11-20T19:46:52.281074Z",
     "start_time": "2023-11-20T19:46:52.277085Z"
    }
   },
   "outputs": [
    {
     "data": {
      "text/plain": [
       "'cpu'"
      ]
     },
     "execution_count": 16,
     "metadata": {},
     "output_type": "execute_result"
    }
   ],
   "source": [
    "device = 'cuda' if torch.cuda.is_available() else 'cpu'\n",
    "device"
   ]
  },
  {
   "cell_type": "code",
   "execution_count": 17,
   "id": "cb235a1a",
   "metadata": {
    "ExecuteTime": {
     "end_time": "2023-11-20T19:46:57.392059Z",
     "start_time": "2023-11-20T19:46:57.382061Z"
    }
   },
   "outputs": [],
   "source": [
    "def learn_net(model, epochs=20, th=0.5):\n",
    "  model = model.to(device)\n",
    "  model.train()\n",
    "  \n",
    "  train_loss_history = []\n",
    "  test_loss_history = []\n",
    "\n",
    "\n",
    "  for epoch in range(epochs):  \n",
    "      running_loss, running_items, running_right = 0.0, 0.0, 0.0\n",
    "      for i, data in enumerate(train_loader, 0):\n",
    "          inputs, labels = data[0].to(device), data[1].to(device)\n",
    "          \n",
    "          # обнуляем градиент\n",
    "          optimizer.zero_grad()\n",
    "          outputs = model(inputs)\n",
    "          \n",
    "          loss = criterion(outputs, labels.float().view(-1, 1))\n",
    "          loss.backward()\n",
    "          optimizer.step()\n",
    "\n",
    "          # подсчет ошибки на обучении\n",
    "          running_loss += loss.item()\n",
    "          running_items += len(labels)\n",
    "          # подсчет метрики на обучении\n",
    "          pred_labels = torch.squeeze((outputs > th).int())\n",
    "          running_right += (labels == pred_labels).sum()\n",
    "          \n",
    "      # выводим статистику о процессе обучения\n",
    "      model.eval()\n",
    "      \n",
    "      print(f'Epoch [{epoch + 1}/{epochs}]. ' \\\n",
    "              f'Step [{i + 1}/{len(train_loader)}]. ' \\\n",
    "              f'Loss: {running_loss/(i+1):.3f}. ' \\\n",
    "              f'Acc: {running_right / running_items:.3f}', end='. ')\n",
    "      \n",
    "      train_loss_history.append(running_loss/(i+1))\n",
    "      running_loss, running_items, running_right = 0.0, 0.0, 0.0\n",
    "\n",
    "          # выводим статистику на тестовых данных\n",
    "      test_running_right, test_running_total, test_loss = 0.0, 0.0, 0.0\n",
    "      for j, data in enumerate(test_loader):\n",
    "          test_labels = data[1].to(device)\n",
    "          test_outputs = model(data[0].to(device))\n",
    "          \n",
    "          # подсчет ошибки на тесте\n",
    "          test_loss += criterion(test_outputs, test_labels.float().view(-1, 1))\n",
    "          # подсчет метрики на тесте\n",
    "          test_running_total += len(data[1])\n",
    "          pred_test_labels = torch.squeeze((test_outputs > th).int())\n",
    "          test_running_right += (test_labels == pred_test_labels).sum()\n",
    "      \n",
    "      test_loss_history.append(test_loss.item()/(j+1))\n",
    "      print(f'Test loss: {test_loss/(j+1):.3f}. Test acc: {test_running_right / test_running_total:.3f}')\n",
    "      test_running_right, test_running_total, test_loss = 0.0, 0.0, 0.0\n",
    "      model.train()\n",
    "          \n",
    "  print('Training is finished!')\n",
    "  return train_loss_history, test_loss_history"
   ]
  },
  {
   "cell_type": "code",
   "execution_count": 18,
   "id": "7caaa798",
   "metadata": {
    "ExecuteTime": {
     "end_time": "2023-11-20T19:54:32.248405Z",
     "start_time": "2023-11-20T19:51:16.774115Z"
    }
   },
   "outputs": [
    {
     "name": "stdout",
     "output_type": "stream",
     "text": [
      "Epoch [1/20]. Step [44/44]. Loss: 0.229. Acc: 0.913. Test loss: 0.183. Test acc: 0.932\n",
      "Epoch [2/20]. Step [44/44]. Loss: 0.155. Acc: 0.944. Test loss: 0.158. Test acc: 0.945\n",
      "Epoch [3/20]. Step [44/44]. Loss: 0.118. Acc: 0.956. Test loss: 0.185. Test acc: 0.947\n",
      "Epoch [4/20]. Step [44/44]. Loss: 0.097. Acc: 0.964. Test loss: 0.173. Test acc: 0.935\n",
      "Epoch [5/20]. Step [44/44]. Loss: 0.073. Acc: 0.972. Test loss: 0.197. Test acc: 0.941\n",
      "Epoch [6/20]. Step [44/44]. Loss: 0.053. Acc: 0.980. Test loss: 0.246. Test acc: 0.945\n",
      "Epoch [7/20]. Step [44/44]. Loss: 0.039. Acc: 0.986. Test loss: 0.309. Test acc: 0.936\n",
      "Epoch [8/20]. Step [44/44]. Loss: 0.032. Acc: 0.989. Test loss: 0.390. Test acc: 0.945\n",
      "Epoch [9/20]. Step [44/44]. Loss: 0.027. Acc: 0.990. Test loss: 0.345. Test acc: 0.942\n",
      "Epoch [10/20]. Step [44/44]. Loss: 0.024. Acc: 0.992. Test loss: 0.370. Test acc: 0.928\n",
      "Epoch [11/20]. Step [44/44]. Loss: 0.015. Acc: 0.995. Test loss: 0.390. Test acc: 0.935\n",
      "Epoch [12/20]. Step [44/44]. Loss: 0.017. Acc: 0.994. Test loss: 0.394. Test acc: 0.943\n",
      "Epoch [13/20]. Step [44/44]. Loss: 0.015. Acc: 0.996. Test loss: 0.480. Test acc: 0.943\n",
      "Epoch [14/20]. Step [44/44]. Loss: 0.013. Acc: 0.996. Test loss: 0.552. Test acc: 0.944\n",
      "Epoch [15/20]. Step [44/44]. Loss: 0.011. Acc: 0.996. Test loss: 0.540. Test acc: 0.941\n",
      "Epoch [16/20]. Step [44/44]. Loss: 0.010. Acc: 0.996. Test loss: 0.550. Test acc: 0.938\n",
      "Epoch [17/20]. Step [44/44]. Loss: 0.015. Acc: 0.995. Test loss: 0.472. Test acc: 0.943\n",
      "Epoch [18/20]. Step [44/44]. Loss: 0.017. Acc: 0.994. Test loss: 0.482. Test acc: 0.944\n",
      "Epoch [19/20]. Step [44/44]. Loss: 0.011. Acc: 0.997. Test loss: 0.586. Test acc: 0.942\n",
      "Epoch [20/20]. Step [44/44]. Loss: 0.009. Acc: 0.997. Test loss: 0.639. Test acc: 0.934\n",
      "Training is finished!\n",
      "Epoch [1/20]. Step [44/44]. Loss: 0.250. Acc: 0.919. Test loss: 0.196. Test acc: 0.930\n",
      "Epoch [2/20]. Step [44/44]. Loss: 0.165. Acc: 0.931. Test loss: 0.181. Test acc: 0.935\n",
      "Epoch [3/20]. Step [44/44]. Loss: 0.126. Acc: 0.951. Test loss: 0.174. Test acc: 0.941\n",
      "Epoch [4/20]. Step [44/44]. Loss: 0.093. Acc: 0.966. Test loss: 0.214. Test acc: 0.947\n",
      "Epoch [5/20]. Step [44/44]. Loss: 0.070. Acc: 0.975. Test loss: 0.189. Test acc: 0.948\n",
      "Epoch [6/20]. Step [44/44]. Loss: 0.051. Acc: 0.982. Test loss: 0.219. Test acc: 0.938\n",
      "Epoch [7/20]. Step [44/44]. Loss: 0.042. Acc: 0.985. Test loss: 0.287. Test acc: 0.949\n",
      "Epoch [8/20]. Step [44/44]. Loss: 0.024. Acc: 0.992. Test loss: 0.350. Test acc: 0.939\n",
      "Epoch [9/20]. Step [44/44]. Loss: 0.018. Acc: 0.994. Test loss: 0.410. Test acc: 0.947\n",
      "Epoch [10/20]. Step [44/44]. Loss: 0.011. Acc: 0.996. Test loss: 0.533. Test acc: 0.948\n",
      "Epoch [11/20]. Step [44/44]. Loss: 0.012. Acc: 0.995. Test loss: 0.478. Test acc: 0.945\n",
      "Epoch [12/20]. Step [44/44]. Loss: 0.012. Acc: 0.996. Test loss: 0.532. Test acc: 0.940\n",
      "Epoch [13/20]. Step [44/44]. Loss: 0.010. Acc: 0.997. Test loss: 0.563. Test acc: 0.944\n",
      "Epoch [14/20]. Step [44/44]. Loss: 0.010. Acc: 0.997. Test loss: 0.554. Test acc: 0.941\n",
      "Epoch [15/20]. Step [44/44]. Loss: 0.008. Acc: 0.997. Test loss: 0.638. Test acc: 0.950\n",
      "Epoch [16/20]. Step [44/44]. Loss: 0.014. Acc: 0.995. Test loss: 0.470. Test acc: 0.945\n",
      "Epoch [17/20]. Step [44/44]. Loss: 0.008. Acc: 0.997. Test loss: 0.634. Test acc: 0.948\n",
      "Epoch [18/20]. Step [44/44]. Loss: 0.008. Acc: 0.997. Test loss: 0.491. Test acc: 0.939\n",
      "Epoch [19/20]. Step [44/44]. Loss: 0.010. Acc: 0.997. Test loss: 0.600. Test acc: 0.941\n",
      "Epoch [20/20]. Step [44/44]. Loss: 0.003. Acc: 0.999. Test loss: 0.890. Test acc: 0.943\n",
      "Training is finished!\n",
      "Epoch [1/20]. Step [44/44]. Loss: 0.226. Acc: 0.930. Test loss: 0.194. Test acc: 0.930\n",
      "Epoch [2/20]. Step [44/44]. Loss: 0.143. Acc: 0.938. Test loss: 0.163. Test acc: 0.949\n",
      "Epoch [3/20]. Step [44/44]. Loss: 0.093. Acc: 0.964. Test loss: 0.151. Test acc: 0.948\n",
      "Epoch [4/20]. Step [44/44]. Loss: 0.058. Acc: 0.979. Test loss: 0.186. Test acc: 0.948\n",
      "Epoch [5/20]. Step [44/44]. Loss: 0.038. Acc: 0.986. Test loss: 0.218. Test acc: 0.948\n",
      "Epoch [6/20]. Step [44/44]. Loss: 0.021. Acc: 0.993. Test loss: 0.302. Test acc: 0.951\n",
      "Epoch [7/20]. Step [44/44]. Loss: 0.015. Acc: 0.995. Test loss: 0.362. Test acc: 0.954\n",
      "Epoch [8/20]. Step [44/44]. Loss: 0.015. Acc: 0.996. Test loss: 0.395. Test acc: 0.949\n",
      "Epoch [9/20]. Step [44/44]. Loss: 0.008. Acc: 0.997. Test loss: 0.480. Test acc: 0.952\n",
      "Epoch [10/20]. Step [44/44]. Loss: 0.006. Acc: 0.998. Test loss: 0.546. Test acc: 0.952\n",
      "Epoch [11/20]. Step [44/44]. Loss: 0.005. Acc: 0.998. Test loss: 0.606. Test acc: 0.946\n",
      "Epoch [12/20]. Step [44/44]. Loss: 0.014. Acc: 0.996. Test loss: 0.380. Test acc: 0.950\n",
      "Epoch [13/20]. Step [44/44]. Loss: 0.011. Acc: 0.997. Test loss: 0.417. Test acc: 0.948\n",
      "Epoch [14/20]. Step [44/44]. Loss: 0.007. Acc: 0.997. Test loss: 0.639. Test acc: 0.953\n",
      "Epoch [15/20]. Step [44/44]. Loss: 0.012. Acc: 0.996. Test loss: 0.456. Test acc: 0.953\n",
      "Epoch [16/20]. Step [44/44]. Loss: 0.008. Acc: 0.997. Test loss: 0.414. Test acc: 0.943\n",
      "Epoch [17/20]. Step [44/44]. Loss: 0.007. Acc: 0.998. Test loss: 0.505. Test acc: 0.949\n",
      "Epoch [18/20]. Step [44/44]. Loss: 0.003. Acc: 0.999. Test loss: 0.531. Test acc: 0.945\n",
      "Epoch [19/20]. Step [44/44]. Loss: 0.003. Acc: 0.999. Test loss: 0.646. Test acc: 0.953\n",
      "Epoch [20/20]. Step [44/44]. Loss: 0.002. Acc: 1.000. Test loss: 0.602. Test acc: 0.950\n",
      "Training is finished!\n"
     ]
    }
   ],
   "source": [
    "losses_train = []\n",
    "losses_test = []\n",
    "for i in [1000, 2000, 3000]:\n",
    "  train_loader, test_loader = get_loaders(max_words=i)\n",
    "  model = Net(vocab_size=i)\n",
    "  optimizer = torch.optim.Adam(model.parameters(), lr=0.01)\n",
    "  criterion = nn.BCELoss()\n",
    "  train_loss_history, test_loss_history = learn_net(model)\n",
    "  losses_train.append(train_loss_history)\n",
    "  losses_test.append(test_loss_history)"
   ]
  },
  {
   "cell_type": "code",
   "execution_count": 19,
   "id": "2ab91bf2",
   "metadata": {
    "ExecuteTime": {
     "end_time": "2023-11-20T19:55:19.867427Z",
     "start_time": "2023-11-20T19:55:19.614159Z"
    }
   },
   "outputs": [
    {
     "data": {
      "image/png": "[encoded data removed]",
      "text/plain": [
       "<Figure size 1600x500 with 1 Axes>"
      ]
     },
     "metadata": {},
     "output_type": "display_data"
    }
   ],
   "source": [
    "plt.figure(figsize = (16,5))\n",
    "for i in range(3):\n",
    "    plt.plot(losses_train[i],'-',label = f'{(i+1)*1000} vocabulary train')\n",
    "    plt.plot(losses_test[i],'--',label = f'{(i+1)*1000} vocabulary val')\n",
    "plt.legend()\n",
    "plt.xlabel('Epoch')\n",
    "plt.ylabel('Loss')\n",
    "plt.grid()\n",
    "plt.show() "
   ]
  },
  {
   "cell_type": "code",
   "execution_count": null,
   "id": "a6bf532a",
   "metadata": {},
   "outputs": [],
   "source": []
  }
 ],
 "metadata": {
  "kernelspec": {
   "display_name": "Python 3 (ipykernel)",
   "language": "python",
   "name": "python3"
  },
  "language_info": {
   "codemirror_mode": {
    "name": "ipython",
    "version": 3
   },
   "file_extension": ".py",
   "mimetype": "text/x-python",
   "name": "python",
   "nbconvert_exporter": "python",
   "pygments_lexer": "ipython3",
   "version": "3.9.17"
  },
  "varInspector": {
   "cols": {
    "lenName": 16,
    "lenType": 16,
    "lenVar": 40
   },
   "kernels_config": {
    "python": {
     "delete_cmd_postfix": "",
     "delete_cmd_prefix": "del ",
     "library": "var_list.py",
     "varRefreshCmd": "print(var_dic_list())"
    },
    "r": {
     "delete_cmd_postfix": ") ",
     "delete_cmd_prefix": "rm(",
     "library": "var_list.r",
     "varRefreshCmd": "cat(var_dic_list()) "
    }
   },
   "types_to_exclude": [
    "module",
    "function",
    "builtin_function_or_method",
    "instance",
    "_Feature"
   ],
   "window_display": false
  }
 },
 "nbformat": 4,
 "nbformat_minor": 5
}
