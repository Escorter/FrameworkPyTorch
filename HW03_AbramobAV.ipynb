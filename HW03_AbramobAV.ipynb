{
 "cells": [
  {
   "cell_type": "markdown",
   "metadata": {},
   "source": [
    "### Домашняя работа к Уроку 3\n",
    "### Студент: Абрамов А.В."
   ]
  },
  {
   "cell_type": "markdown",
   "metadata": {},
   "source": [
    "Будем практиковаться на датасете:\n",
    "https://www.kaggle.com/c/avito-demand-prediction\n",
    "\n",
    "Ваша задача:\n",
    "1. Создать Dataset для загрузки данных (используем только числовые данные)\n",
    "2. Обернуть его в Dataloader\n",
    "3. Написать архитектуру сети, которая предсказывает число показов на основании числовых данных (вы всегда можете нагенерить дополнительных факторов). Сеть должна включать BatchNorm слои и Dropout (или НЕ включать, но нужно обосновать)\n",
    "4. Учить будем на функцию потерь с кагла (log RMSE) - нужно её реализовать\n",
    "5. Сравните сходимость Adam, RMSProp и SGD, сделайте вывод по качеству работы модели\n",
    "\n",
    "train-test разделение нужно сделать с помощью sklearn random_state=13, test_size = 0.25\n",
    "\n",
    "Вопросы? в личку @Kinetikm"
   ]
  },
  {
   "cell_type": "code",
   "execution_count": 3,
   "metadata": {
    "ExecuteTime": {
     "end_time": "2023-11-05T18:19:54.578631Z",
     "start_time": "2023-11-05T18:19:50.893520Z"
    }
   },
   "outputs": [],
   "source": [
    "import numpy as np\n",
    "import pandas as pd\n",
    "\n",
    "import torch\n",
    "from torch import nn\n",
    "from torch.optim import Adam, RMSprop, SGD\n",
    "from torch.utils.data import DataLoader, Dataset\n",
    "\n",
    "from sklearn.datasets import fetch_california_housing\n",
    "from sklearn.model_selection import train_test_split\n",
    "from sklearn.preprocessing import StandardScaler"
   ]
  },
  {
   "cell_type": "code",
   "execution_count": 10,
   "metadata": {
    "ExecuteTime": {
     "end_time": "2023-11-05T18:51:15.719466Z",
     "start_time": "2023-11-05T18:51:15.701489Z"
    }
   },
   "outputs": [],
   "source": [
    "DEVICE = 'cpu'\n",
    "EPOCHES = 10\n",
    "LR = 0.01"
   ]
  },
  {
   "cell_type": "code",
   "execution_count": 5,
   "metadata": {
    "ExecuteTime": {
     "end_time": "2023-11-05T18:19:56.622040Z",
     "start_time": "2023-11-05T18:19:56.605807Z"
    }
   },
   "outputs": [],
   "source": [
    "class CHDataset(Dataset):\n",
    "    def __init__(self, *init_datasets):\n",
    "        assert all(init_datasets[0].size(0) == init_dataset.size(0) for init_dataset in init_datasets), \"Несоотвутствует размерность среди dataset\"\n",
    "        self._base_datasets = init_datasets\n",
    "  \n",
    "    def __len__(self):\n",
    "        return self._base_datasets[0].size(0)\n",
    "  \n",
    "    def __getitem__(self, idx):\n",
    "        return tuple(base_dataset[idx] for base_dataset in self._base_datasets)"
   ]
  },
  {
   "cell_type": "markdown",
   "metadata": {},
   "source": [
    "#### Написать архитектуру сети, которая должна включать BatchNorm слои и Dropout (или НЕ включать, но нужно обосновать)"
   ]
  },
  {
   "cell_type": "code",
   "execution_count": 43,
   "metadata": {
    "ExecuteTime": {
     "end_time": "2023-11-05T19:50:30.510646Z",
     "start_time": "2023-11-05T19:50:30.491697Z"
    }
   },
   "outputs": [],
   "source": [
    "class CHNet(nn.Module):\n",
    "    def __init__(self) -> None:\n",
    "        super(CHNet, self).__init__()\n",
    "        self.block_1 = nn.Sequential(\n",
    "          nn.Linear(in_features=8, out_features=100, bias=True),\n",
    "          nn.Dropout(0.1),\n",
    "          nn.BatchNorm1d(100),\n",
    "          nn.ReLU())\n",
    "        self.block_2 = nn.Sequential(\n",
    "          nn.Linear(in_features=100, out_features=100, bias=True),\n",
    "          nn.Dropout(0.2),\n",
    "          nn.BatchNorm1d(100),\n",
    "          nn.ReLU())\n",
    "        self.block_3 = nn.Sequential(\n",
    "          nn.Linear(in_features=100, out_features=60, bias=True),\n",
    "          nn.Dropout(0.2),\n",
    "          nn.BatchNorm1d(60),\n",
    "          nn.ReLU())\n",
    "        self.block_4 = nn.Sequential(\n",
    "          nn.Linear(in_features=60, out_features=30),\n",
    "          nn.Dropout(0.2),\n",
    "          nn.BatchNorm1d(30),\n",
    "          nn.ReLU())\n",
    "        self.predict = nn.Sequential(\n",
    "          nn.Linear(in_features=30, out_features=1, bias=True),\n",
    "          nn.BatchNorm1d(1),\n",
    "          nn.ReLU())\n",
    "  \n",
    "    def forward(self, inp):\n",
    "        out = self.block_1(inp)\n",
    "        out = self.block_2(out)\n",
    "        out = self.block_3(out)\n",
    "        out = self.block_4(out)\n",
    "        out = self.predict(out)\n",
    "        return out[:, 0]"
   ]
  },
  {
   "cell_type": "code",
   "execution_count": 7,
   "metadata": {
    "ExecuteTime": {
     "end_time": "2023-11-05T18:46:43.719839Z",
     "start_time": "2023-11-05T18:46:43.699888Z"
    }
   },
   "outputs": [],
   "source": [
    "def train_loop(train_loader, test_loader, net, optimizer):\n",
    "    loss_fn = nn.MSELoss()\n",
    "    best_acc = {'train': None, 'test': None}\n",
    "    net.train()\n",
    "    for epoch in range(EPOCHES):\n",
    "        running_loss, running_items, running_right = 0.0, 0.0, 0.0\n",
    "        for i, (inputs, labels) in enumerate(train_loader):\n",
    "        \n",
    "            outputs = net(inputs)\n",
    "            loss = loss_fn(outputs, labels)\n",
    "\n",
    "            # обнуляем градиент\n",
    "            optimizer.zero_grad()\n",
    "            loss.backward()\n",
    "            optimizer.step()\n",
    "\n",
    "            # выводим статистику о процессе обучения\n",
    "            running_loss += loss.item()\n",
    "            running_items += len(labels)\n",
    "        \n",
    "            # выводим статистику о процессе обучения\n",
    "            if i % 150 == 0 or (i + 1) == len(train_loader):    # печатаем каждые 150 mini-batches\n",
    "                net.eval()\n",
    "\n",
    "                test_loss, test_running_total, test_loss  = 0.0, 0.0, 0.0\n",
    "                for y, (out_test, lbl_test) in enumerate(test_loader):\n",
    "                    test_outputs = net(out_test)\n",
    "                    test_loss += loss_fn(test_outputs, lbl_test)\n",
    "                    test_running_total += len(lbl_test)\n",
    "            \n",
    "                res_loss_train = running_loss / running_items\n",
    "                res_loss_test = test_loss / test_running_total\n",
    "            \n",
    "                if best_acc['train'] is None or res_loss_train < best_acc['train']:\n",
    "                    best_acc['train'] = res_loss_train\n",
    "            \n",
    "                if best_acc['test'] is None or res_loss_test < best_acc['test']:\n",
    "                    best_acc['test'] = res_loss_train\n",
    "\n",
    "                print(f'Epoch [{epoch + 1}/{EPOCHES}]. ' \\\n",
    "                      f'Step [{i + 1}/{len(train_loader)}]. ' \\\n",
    "                      f'Loss: {res_loss_train:.3f}. '\\\n",
    "                      f'Test acc: {res_loss_test:.3f}.')\n",
    "            \n",
    "                running_loss, running_items = 0.0, 0.0\n",
    "                net.train()\n",
    "    print(f\"Best acc train: {best_acc['train']:.3f}. Best acc test: {best_acc['test']:.3f}\")\n",
    "    print('Training is finished!')"
   ]
  },
  {
   "cell_type": "markdown",
   "metadata": {},
   "source": [
    "#### train-test разделение нужно сделать с помощью sklearn: \n",
    "#### random_state=13, test_size = 0.25"
   ]
  },
  {
   "cell_type": "code",
   "execution_count": 8,
   "metadata": {
    "ExecuteTime": {
     "end_time": "2023-11-05T18:48:53.727348Z",
     "start_time": "2023-11-05T18:48:53.701104Z"
    }
   },
   "outputs": [],
   "source": [
    "california_housing = fetch_california_housing()\n",
    "# Разделим на тестовые и тренировочные данные\n",
    "X_train, X_test, y_train, y_test = train_test_split(california_housing.data, california_housing.target, test_size=0.25, random_state=13)"
   ]
  },
  {
   "cell_type": "code",
   "execution_count": 9,
   "metadata": {
    "ExecuteTime": {
     "end_time": "2023-11-05T18:49:44.840807Z",
     "start_time": "2023-11-05T18:49:44.828839Z"
    }
   },
   "outputs": [],
   "source": [
    "# Нормализуем данные и подготовим их для дальнейшего использования в нашем dataset\n",
    "scale = StandardScaler()\n",
    "X_train_s = scale.fit_transform(X_train)\n",
    "X_test_s = scale.transform(X_test)"
   ]
  },
  {
   "cell_type": "code",
   "execution_count": 11,
   "metadata": {
    "ExecuteTime": {
     "end_time": "2023-11-05T18:52:43.755017Z",
     "start_time": "2023-11-05T18:52:43.725097Z"
    }
   },
   "outputs": [],
   "source": [
    "train_xt = torch.from_numpy(X_train_s.astype(np.float32)).to(DEVICE)\n",
    "train_yt = torch.from_numpy(y_train.astype(np.float32)).to(DEVICE)\n",
    "\n",
    "test_xt = torch.from_numpy(X_test_s.astype(np.float32)).to(DEVICE)\n",
    "test_yt = torch.from_numpy(y_test.astype(np.float32)).to(DEVICE)"
   ]
  },
  {
   "cell_type": "markdown",
   "metadata": {},
   "source": [
    "#### Создать Dataset для загрузки данных (используем только числовые данные)"
   ]
  },
  {
   "cell_type": "code",
   "execution_count": 12,
   "metadata": {
    "ExecuteTime": {
     "end_time": "2023-11-05T18:53:21.127187Z",
     "start_time": "2023-11-05T18:53:21.109208Z"
    }
   },
   "outputs": [],
   "source": [
    "train_dataset = CHDataset(train_xt, train_yt)\n",
    "test_dataset = CHDataset(test_xt, test_yt)"
   ]
  },
  {
   "cell_type": "code",
   "execution_count": 28,
   "metadata": {
    "ExecuteTime": {
     "end_time": "2023-11-05T19:01:29.338556Z",
     "start_time": "2023-11-05T19:01:29.233608Z"
    }
   },
   "outputs": [
    {
     "data": {
      "text/plain": [
       "[(tensor([-0.1815,  0.5791, -0.3400, -0.0045, -0.0654, -0.0871, -0.6718,  0.6756]),\n",
       "  tensor(2.6800)),\n",
       " (tensor([-0.4683,  0.5791, -0.4363, -0.2006, -0.1871,  0.0122, -0.6857,  0.6060]),\n",
       "  tensor(1.9020)),\n",
       " (tensor([-1.1417, -1.4097,  6.1792,  7.1361, -1.1848, -0.1256,  2.1122, -0.7415]),\n",
       "  tensor(1.3750))]"
      ]
     },
     "execution_count": 28,
     "metadata": {},
     "output_type": "execute_result"
    }
   ],
   "source": [
    "list(train_dataset)[:3]"
   ]
  },
  {
   "cell_type": "markdown",
   "metadata": {},
   "source": [
    "#### Обернуть его в Dataloader"
   ]
  },
  {
   "cell_type": "code",
   "execution_count": 36,
   "metadata": {
    "ExecuteTime": {
     "end_time": "2023-11-05T19:40:18.514474Z",
     "start_time": "2023-11-05T19:40:18.500535Z"
    }
   },
   "outputs": [],
   "source": [
    "train_loader = DataLoader(train_dataset, batch_size=64, shuffle=True, drop_last=True)\n",
    "test_loader = DataLoader(test_dataset, batch_size=64, shuffle=True, drop_last=True)"
   ]
  },
  {
   "cell_type": "markdown",
   "metadata": {},
   "source": [
    "#### Сравните сходимость Adam, RMSProp и SGD, сделайте вывод по качеству работы модели"
   ]
  },
  {
   "cell_type": "code",
   "execution_count": 37,
   "metadata": {
    "ExecuteTime": {
     "end_time": "2023-11-05T19:40:21.381095Z",
     "start_time": "2023-11-05T19:40:21.363699Z"
    }
   },
   "outputs": [],
   "source": [
    "# Adam\n",
    "net = CHNet()\n",
    "optimizer = Adam(net.parameters(), lr=LR)"
   ]
  },
  {
   "cell_type": "code",
   "execution_count": 38,
   "metadata": {
    "ExecuteTime": {
     "end_time": "2023-11-05T19:40:33.232951Z",
     "start_time": "2023-11-05T19:40:23.052436Z"
    }
   },
   "outputs": [
    {
     "name": "stdout",
     "output_type": "stream",
     "text": [
      "Epoch [1/10]. Step [1/241]. Loss: 0.081. Test acc: 0.086.\n",
      "Epoch [1/10]. Step [151/241]. Loss: 0.027. Test acc: 0.012.\n",
      "Epoch [1/10]. Step [241/241]. Loss: 0.010. Test acc: 0.007.\n",
      "Epoch [2/10]. Step [1/241]. Loss: 0.006. Test acc: 0.007.\n",
      "Epoch [2/10]. Step [151/241]. Loss: 0.008. Test acc: 0.008.\n",
      "Epoch [2/10]. Step [241/241]. Loss: 0.008. Test acc: 0.007.\n",
      "Epoch [3/10]. Step [1/241]. Loss: 0.007. Test acc: 0.007.\n",
      "Epoch [3/10]. Step [151/241]. Loss: 0.008. Test acc: 0.009.\n",
      "Epoch [3/10]. Step [241/241]. Loss: 0.007. Test acc: 0.014.\n",
      "Epoch [4/10]. Step [1/241]. Loss: 0.006. Test acc: 0.014.\n",
      "Epoch [4/10]. Step [151/241]. Loss: 0.007. Test acc: 0.008.\n",
      "Epoch [4/10]. Step [241/241]. Loss: 0.007. Test acc: 0.006.\n",
      "Epoch [5/10]. Step [1/241]. Loss: 0.012. Test acc: 0.006.\n",
      "Epoch [5/10]. Step [151/241]. Loss: 0.007. Test acc: 0.011.\n",
      "Epoch [5/10]. Step [241/241]. Loss: 0.007. Test acc: 0.009.\n",
      "Epoch [6/10]. Step [1/241]. Loss: 0.009. Test acc: 0.009.\n",
      "Epoch [6/10]. Step [151/241]. Loss: 0.007. Test acc: 0.009.\n",
      "Epoch [6/10]. Step [241/241]. Loss: 0.007. Test acc: 0.006.\n",
      "Epoch [7/10]. Step [1/241]. Loss: 0.005. Test acc: 0.006.\n",
      "Epoch [7/10]. Step [151/241]. Loss: 0.007. Test acc: 0.009.\n",
      "Epoch [7/10]. Step [241/241]. Loss: 0.006. Test acc: 0.006.\n",
      "Epoch [8/10]. Step [1/241]. Loss: 0.003. Test acc: 0.006.\n",
      "Epoch [8/10]. Step [151/241]. Loss: 0.007. Test acc: 0.006.\n",
      "Epoch [8/10]. Step [241/241]. Loss: 0.006. Test acc: 0.007.\n",
      "Epoch [9/10]. Step [1/241]. Loss: 0.004. Test acc: 0.007.\n",
      "Epoch [9/10]. Step [151/241]. Loss: 0.006. Test acc: 0.009.\n",
      "Epoch [9/10]. Step [241/241]. Loss: 0.006. Test acc: 0.005.\n",
      "Epoch [10/10]. Step [1/241]. Loss: 0.006. Test acc: 0.005.\n",
      "Epoch [10/10]. Step [151/241]. Loss: 0.006. Test acc: 0.006.\n",
      "Epoch [10/10]. Step [241/241]. Loss: 0.006. Test acc: 0.009.\n",
      "Best acc train: 0.003. Best acc test: 0.005\n",
      "Training is finished!\n",
      "CPU times: total: 1min\n",
      "Wall time: 10.2 s\n"
     ]
    }
   ],
   "source": [
    "%%time\n",
    "train_loop(train_loader, test_loader, net, optimizer)"
   ]
  },
  {
   "cell_type": "code",
   "execution_count": 39,
   "metadata": {
    "ExecuteTime": {
     "end_time": "2023-11-05T19:42:54.066415Z",
     "start_time": "2023-11-05T19:42:54.052478Z"
    }
   },
   "outputs": [],
   "source": [
    "# RMSProp\n",
    "net = CHNet().to(DEVICE)\n",
    "optimizer = RMSprop(net.parameters(), lr=LR)"
   ]
  },
  {
   "cell_type": "code",
   "execution_count": 40,
   "metadata": {
    "ExecuteTime": {
     "end_time": "2023-11-05T19:43:11.702417Z",
     "start_time": "2023-11-05T19:43:03.028614Z"
    }
   },
   "outputs": [
    {
     "name": "stdout",
     "output_type": "stream",
     "text": [
      "Epoch [1/10]. Step [1/241]. Loss: 0.092. Test acc: 0.088.\n",
      "Epoch [1/10]. Step [151/241]. Loss: 0.015. Test acc: 0.013.\n",
      "Epoch [1/10]. Step [241/241]. Loss: 0.009. Test acc: 0.008.\n",
      "Epoch [2/10]. Step [1/241]. Loss: 0.007. Test acc: 0.007.\n",
      "Epoch [2/10]. Step [151/241]. Loss: 0.008. Test acc: 0.006.\n",
      "Epoch [2/10]. Step [241/241]. Loss: 0.008. Test acc: 0.007.\n",
      "Epoch [3/10]. Step [1/241]. Loss: 0.005. Test acc: 0.007.\n",
      "Epoch [3/10]. Step [151/241]. Loss: 0.008. Test acc: 0.011.\n",
      "Epoch [3/10]. Step [241/241]. Loss: 0.007. Test acc: 0.006.\n",
      "Epoch [4/10]. Step [1/241]. Loss: 0.006. Test acc: 0.006.\n",
      "Epoch [4/10]. Step [151/241]. Loss: 0.007. Test acc: 0.010.\n",
      "Epoch [4/10]. Step [241/241]. Loss: 0.007. Test acc: 0.012.\n",
      "Epoch [5/10]. Step [1/241]. Loss: 0.006. Test acc: 0.011.\n",
      "Epoch [5/10]. Step [151/241]. Loss: 0.007. Test acc: 0.012.\n",
      "Epoch [5/10]. Step [241/241]. Loss: 0.007. Test acc: 0.007.\n",
      "Epoch [6/10]. Step [1/241]. Loss: 0.014. Test acc: 0.012.\n",
      "Epoch [6/10]. Step [151/241]. Loss: 0.006. Test acc: 0.007.\n",
      "Epoch [6/10]. Step [241/241]. Loss: 0.006. Test acc: 0.008.\n",
      "Epoch [7/10]. Step [1/241]. Loss: 0.004. Test acc: 0.008.\n",
      "Epoch [7/10]. Step [151/241]. Loss: 0.006. Test acc: 0.012.\n",
      "Epoch [7/10]. Step [241/241]. Loss: 0.006. Test acc: 0.010.\n",
      "Epoch [8/10]. Step [1/241]. Loss: 0.007. Test acc: 0.011.\n",
      "Epoch [8/10]. Step [151/241]. Loss: 0.006. Test acc: 0.011.\n",
      "Epoch [8/10]. Step [241/241]. Loss: 0.006. Test acc: 0.005.\n",
      "Epoch [9/10]. Step [1/241]. Loss: 0.005. Test acc: 0.006.\n",
      "Epoch [9/10]. Step [151/241]. Loss: 0.006. Test acc: 0.013.\n",
      "Epoch [9/10]. Step [241/241]. Loss: 0.006. Test acc: 0.008.\n",
      "Epoch [10/10]. Step [1/241]. Loss: 0.007. Test acc: 0.008.\n",
      "Epoch [10/10]. Step [151/241]. Loss: 0.006. Test acc: 0.010.\n",
      "Epoch [10/10]. Step [241/241]. Loss: 0.006. Test acc: 0.008.\n",
      "Best acc train: 0.004. Best acc test: 0.005\n",
      "Training is finished!\n",
      "CPU times: total: 52 s\n",
      "Wall time: 8.66 s\n"
     ]
    }
   ],
   "source": [
    "%%time\n",
    "train_loop(train_loader, test_loader, net, optimizer)"
   ]
  },
  {
   "cell_type": "code",
   "execution_count": 41,
   "metadata": {
    "ExecuteTime": {
     "end_time": "2023-11-05T19:44:10.829458Z",
     "start_time": "2023-11-05T19:44:10.817515Z"
    }
   },
   "outputs": [],
   "source": [
    "# SGD\n",
    "net = CHNet().to(DEVICE)\n",
    "optimizer = SGD(net.parameters(), lr=LR)"
   ]
  },
  {
   "cell_type": "code",
   "execution_count": 42,
   "metadata": {
    "ExecuteTime": {
     "end_time": "2023-11-05T19:44:32.553616Z",
     "start_time": "2023-11-05T19:44:25.148464Z"
    }
   },
   "outputs": [
    {
     "name": "stdout",
     "output_type": "stream",
     "text": [
      "Epoch [1/10]. Step [1/241]. Loss: 0.062. Test acc: 0.088.\n",
      "Epoch [1/10]. Step [151/241]. Loss: 0.025. Test acc: 0.011.\n",
      "Epoch [1/10]. Step [241/241]. Loss: 0.012. Test acc: 0.010.\n",
      "Epoch [2/10]. Step [1/241]. Loss: 0.010. Test acc: 0.010.\n",
      "Epoch [2/10]. Step [151/241]. Loss: 0.011. Test acc: 0.010.\n",
      "Epoch [2/10]. Step [241/241]. Loss: 0.010. Test acc: 0.009.\n",
      "Epoch [3/10]. Step [1/241]. Loss: 0.012. Test acc: 0.009.\n",
      "Epoch [3/10]. Step [151/241]. Loss: 0.009. Test acc: 0.008.\n",
      "Epoch [3/10]. Step [241/241]. Loss: 0.009. Test acc: 0.008.\n",
      "Epoch [4/10]. Step [1/241]. Loss: 0.014. Test acc: 0.008.\n",
      "Epoch [4/10]. Step [151/241]. Loss: 0.008. Test acc: 0.007.\n",
      "Epoch [4/10]. Step [241/241]. Loss: 0.008. Test acc: 0.007.\n",
      "Epoch [5/10]. Step [1/241]. Loss: 0.007. Test acc: 0.007.\n",
      "Epoch [5/10]. Step [151/241]. Loss: 0.008. Test acc: 0.007.\n",
      "Epoch [5/10]. Step [241/241]. Loss: 0.008. Test acc: 0.007.\n",
      "Epoch [6/10]. Step [1/241]. Loss: 0.006. Test acc: 0.007.\n",
      "Epoch [6/10]. Step [151/241]. Loss: 0.007. Test acc: 0.007.\n",
      "Epoch [6/10]. Step [241/241]. Loss: 0.007. Test acc: 0.007.\n",
      "Epoch [7/10]. Step [1/241]. Loss: 0.012. Test acc: 0.007.\n",
      "Epoch [7/10]. Step [151/241]. Loss: 0.007. Test acc: 0.007.\n",
      "Epoch [7/10]. Step [241/241]. Loss: 0.007. Test acc: 0.007.\n",
      "Epoch [8/10]. Step [1/241]. Loss: 0.005. Test acc: 0.007.\n",
      "Epoch [8/10]. Step [151/241]. Loss: 0.007. Test acc: 0.006.\n",
      "Epoch [8/10]. Step [241/241]. Loss: 0.007. Test acc: 0.007.\n",
      "Epoch [9/10]. Step [1/241]. Loss: 0.009. Test acc: 0.007.\n",
      "Epoch [9/10]. Step [151/241]. Loss: 0.007. Test acc: 0.006.\n",
      "Epoch [9/10]. Step [241/241]. Loss: 0.007. Test acc: 0.008.\n",
      "Epoch [10/10]. Step [1/241]. Loss: 0.006. Test acc: 0.008.\n",
      "Epoch [10/10]. Step [151/241]. Loss: 0.007. Test acc: 0.007.\n",
      "Epoch [10/10]. Step [241/241]. Loss: 0.007. Test acc: 0.008.\n",
      "Best acc train: 0.005. Best acc test: 0.006\n",
      "Training is finished!\n",
      "CPU times: total: 44.3 s\n",
      "Wall time: 7.39 s\n"
     ]
    }
   ],
   "source": [
    "%%time\n",
    "train_loop(train_loader, test_loader, net, optimizer)"
   ]
  },
  {
   "cell_type": "markdown",
   "metadata": {},
   "source": [
    "#### Вывод: лучшие показатели по точности у SGD"
   ]
  },
  {
   "cell_type": "code",
   "execution_count": null,
   "metadata": {},
   "outputs": [],
   "source": []
  }
 ],
 "metadata": {
  "kernelspec": {
   "display_name": "Python 3 (ipykernel)",
   "language": "python",
   "name": "python3"
  },
  "language_info": {
   "codemirror_mode": {
    "name": "ipython",
    "version": 3
   },
   "file_extension": ".py",
   "mimetype": "text/x-python",
   "name": "python",
   "nbconvert_exporter": "python",
   "pygments_lexer": "ipython3",
   "version": "3.9.17"
  },
  "varInspector": {
   "cols": {
    "lenName": 16,
    "lenType": 16,
    "lenVar": 40
   },
   "kernels_config": {
    "python": {
     "delete_cmd_postfix": "",
     "delete_cmd_prefix": "del ",
     "library": "var_list.py",
     "varRefreshCmd": "print(var_dic_list())"
    },
    "r": {
     "delete_cmd_postfix": ") ",
     "delete_cmd_prefix": "rm(",
     "library": "var_list.r",
     "varRefreshCmd": "cat(var_dic_list()) "
    }
   },
   "types_to_exclude": [
    "module",
    "function",
    "builtin_function_or_method",
    "instance",
    "_Feature"
   ],
   "window_display": false
  }
 },
 "nbformat": 4,
 "nbformat_minor": 2
}
