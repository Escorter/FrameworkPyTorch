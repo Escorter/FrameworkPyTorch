{
 "cells": [
  {
   "cell_type": "markdown",
   "metadata": {},
   "source": [
    "### Домашняя работа к Уроку 1\n",
    "### Студент: Абрамов А.В."
   ]
  },
  {
   "cell_type": "code",
   "execution_count": 51,
   "metadata": {
    "ExecuteTime": {
     "end_time": "2023-10-18T22:43:02.600753Z",
     "start_time": "2023-10-18T22:43:02.588680Z"
    }
   },
   "outputs": [],
   "source": [
    "import torch\n",
    "import torchvision\n",
    "from IPython import display\n",
    "import numpy as np\n",
    "import random\n",
    "from torch.autograd import Variable"
   ]
  },
  {
   "cell_type": "code",
   "execution_count": 11,
   "metadata": {
    "ExecuteTime": {
     "end_time": "2023-10-18T19:20:05.334539Z",
     "start_time": "2023-10-18T19:20:05.324566Z"
    }
   },
   "outputs": [
    {
     "name": "stdout",
     "output_type": "stream",
     "text": [
      "Тип тензора: torch.FloatTensor\n",
      "Размерность тензора: torch.Size([3, 4, 5])\n",
      "Содержимое тензора:\n",
      "tensor([[[0.2858, 0.9393, 0.8734, 0.2777, 0.9381],\n",
      "         [0.1811, 0.7772, 0.8366, 0.4496, 0.6700],\n",
      "         [0.3070, 0.3142, 0.6357, 0.5863, 0.3065],\n",
      "         [0.6272, 0.9490, 0.6183, 0.4847, 0.9994]],\n",
      "\n",
      "        [[0.8067, 0.4158, 0.5025, 0.4113, 0.9877],\n",
      "         [0.7872, 0.3344, 0.8283, 0.8249, 0.4997],\n",
      "         [0.4272, 0.4691, 0.7247, 0.1345, 0.5630],\n",
      "         [0.6178, 0.3960, 0.2661, 0.2215, 0.7624]],\n",
      "\n",
      "        [[0.2658, 0.1048, 0.0579, 0.7178, 0.1760],\n",
      "         [0.0261, 0.3511, 0.8781, 0.5574, 0.9233],\n",
      "         [0.4318, 0.3495, 0.0345, 0.9762, 0.9505],\n",
      "         [0.7581, 0.2272, 0.1048, 0.9153, 0.5769]]])\n"
     ]
    }
   ],
   "source": [
    "# Создайте случайный FloatTensor размера 3x4x5\n",
    "a = torch.rand(3, 4, 5)\n",
    "print(f'Тип тензора: {a.type()}')\n",
    "print(f'Размерность тензора: {a.size()}')\n",
    "print(f'Содержимое тензора:\\n{a}')"
   ]
  },
  {
   "cell_type": "code",
   "execution_count": 13,
   "metadata": {
    "ExecuteTime": {
     "end_time": "2023-10-18T19:20:32.202991Z",
     "start_time": "2023-10-18T19:20:32.184023Z"
    }
   },
   "outputs": [
    {
     "data": {
      "text/plain": [
       "torch.Size([3, 4, 5])"
      ]
     },
     "execution_count": 13,
     "metadata": {},
     "output_type": "execute_result"
    }
   ],
   "source": [
    "# Выведите его форму (shape)\n",
    "a.shape"
   ]
  },
  {
   "cell_type": "code",
   "execution_count": 29,
   "metadata": {
    "ExecuteTime": {
     "end_time": "2023-10-18T22:16:24.687563Z",
     "start_time": "2023-10-18T22:16:24.677589Z"
    }
   },
   "outputs": [
    {
     "data": {
      "text/plain": [
       "tensor([[0.2858, 0.9393, 0.8734, 0.2777, 0.9381, 0.1811, 0.7772, 0.8366, 0.4496,\n",
       "         0.6700],\n",
       "        [0.3070, 0.3142, 0.6357, 0.5863, 0.3065, 0.6272, 0.9490, 0.6183, 0.4847,\n",
       "         0.9994],\n",
       "        [0.8067, 0.4158, 0.5025, 0.4113, 0.9877, 0.7872, 0.3344, 0.8283, 0.8249,\n",
       "         0.4997],\n",
       "        [0.4272, 0.4691, 0.7247, 0.1345, 0.5630, 0.6178, 0.3960, 0.2661, 0.2215,\n",
       "         0.7624],\n",
       "        [0.2658, 0.1048, 0.0579, 0.7178, 0.1760, 0.0261, 0.3511, 0.8781, 0.5574,\n",
       "         0.9233],\n",
       "        [0.4318, 0.3495, 0.0345, 0.9762, 0.9505, 0.7581, 0.2272, 0.1048, 0.9153,\n",
       "         0.5769]])"
      ]
     },
     "execution_count": 29,
     "metadata": {},
     "output_type": "execute_result"
    }
   ],
   "source": [
    "# Приведите его к форме 6 X 10\n",
    "b = a.reshape(6, 10)\n",
    "b"
   ]
  },
  {
   "cell_type": "code",
   "execution_count": 54,
   "metadata": {
    "ExecuteTime": {
     "end_time": "2023-10-18T22:48:57.614317Z",
     "start_time": "2023-10-18T22:48:57.606338Z"
    },
    "scrolled": true
   },
   "outputs": [
    {
     "data": {
      "text/plain": [
       "tensor([[0.2858, 3.7572, 1.7468, 0.5554, 0.9381, 0.1811, 3.1089, 1.6733, 0.8991,\n",
       "         0.6700],\n",
       "        [0.3070, 1.2569, 1.2714, 1.1726, 0.3065, 0.6272, 3.7961, 1.2365, 0.9695,\n",
       "         0.9994],\n",
       "        [0.8067, 1.6631, 1.0049, 0.8227, 0.9877, 0.7872, 1.3377, 1.6565, 1.6498,\n",
       "         0.4997],\n",
       "        [0.4272, 1.8764, 1.4493, 0.2690, 0.5630, 0.6178, 1.5841, 0.5321, 0.4430,\n",
       "         0.7624],\n",
       "        [0.2658, 0.4192, 0.1158, 1.4355, 0.1760, 0.0261, 1.4046, 1.7561, 1.1147,\n",
       "         0.9233],\n",
       "        [0.4318, 1.3979, 0.0690, 1.9524, 0.9505, 0.7581, 0.9088, 0.2097, 1.8307,\n",
       "         0.5769]])"
      ]
     },
     "execution_count": 54,
     "metadata": {},
     "output_type": "execute_result"
    }
   ],
   "source": [
    "# Умножьте его на вектор [1, 4, 2, 2, 1] поэлементно\n",
    "c = torch.FloatTensor([1, 4, 2, 2, 1, 1, 4, 2, 2, 1])\n",
    "d = b * c\n",
    "d"
   ]
  },
  {
   "cell_type": "code",
   "execution_count": 43,
   "metadata": {
    "ExecuteTime": {
     "end_time": "2023-10-18T22:31:32.986470Z",
     "start_time": "2023-10-18T22:31:32.949037Z"
    }
   },
   "outputs": [
    {
     "data": {
      "text/plain": [
       "tensor([[22.2831, 16.4366,  9.0472, 10.1095, 14.7257, 14.3553],\n",
       "        [15.5059, 12.7849,  7.5471,  8.9276, 12.1794, 10.9447],\n",
       "        [13.4129, 15.0608,  8.3891,  8.8829, 11.6925, 12.1149],\n",
       "        [12.6683, 10.9092,  6.4227,  5.9504, 10.6203,  8.0154],\n",
       "        [ 7.6516,  8.4557,  4.5599,  6.0558,  7.1726,  8.3851],\n",
       "        [11.7653, 11.0763,  7.7318,  9.6235,  6.7717,  9.1262]])"
      ]
     },
     "execution_count": 43,
     "metadata": {},
     "output_type": "execute_result"
    }
   ],
   "source": [
    "# Умножьте тензор матрично на себя, чтобы результат был размерности 6x6\n",
    "j = d.mm(d.reshape(10, 6))\n",
    "j"
   ]
  },
  {
   "cell_type": "code",
   "execution_count": 48,
   "metadata": {
    "ExecuteTime": {
     "end_time": "2023-10-18T22:38:40.614717Z",
     "start_time": "2023-10-18T22:38:40.562856Z"
    }
   },
   "outputs": [
    {
     "name": "stdout",
     "output_type": "stream",
     "text": [
      "d(y)/d(x)=3.0\n",
      "d(y)/d(z)=1.0\n",
      "d(y)/d(t)=-75.0\n"
     ]
    }
   ],
   "source": [
    "# Посчитайте производную функции y = x**3 + z - 75t в точке (1, 0.5, 2)\n",
    "x = torch.tensor([1.], requires_grad=True)\n",
    "z = torch.tensor([0.5], requires_grad=True)\n",
    "t = torch.tensor([2.], requires_grad=True)\n",
    "\n",
    "y = x ** 3 + z - 75 * t\n",
    "y.backward()\n",
    "\n",
    "print(f'd(y)/d(x)={x.grad.item()}')\n",
    "print(f'd(y)/d(z)={z.grad.item()}')\n",
    "print(f'd(y)/d(t)={t.grad.item()}')"
   ]
  },
  {
   "cell_type": "code",
   "execution_count": 49,
   "metadata": {
    "ExecuteTime": {
     "end_time": "2023-10-18T22:41:06.236028Z",
     "start_time": "2023-10-18T22:41:06.213090Z"
    }
   },
   "outputs": [
    {
     "data": {
      "text/plain": [
       "tensor([[1., 0., 0., 0., 0., 0.],\n",
       "        [0., 1., 0., 0., 0., 0.],\n",
       "        [0., 0., 1., 0., 0., 0.],\n",
       "        [0., 0., 0., 1., 0., 0.],\n",
       "        [0., 0., 0., 0., 1., 0.]])"
      ]
     },
     "execution_count": 49,
     "metadata": {},
     "output_type": "execute_result"
    }
   ],
   "source": [
    "# Создайте единичный тензор размера 5x6\n",
    "n = torch.eye(5,6)\n",
    "n"
   ]
  },
  {
   "cell_type": "code",
   "execution_count": 50,
   "metadata": {
    "ExecuteTime": {
     "end_time": "2023-10-18T22:41:10.007966Z",
     "start_time": "2023-10-18T22:41:09.988991Z"
    }
   },
   "outputs": [
    {
     "data": {
      "text/plain": [
       "array([[1., 0., 0., 0., 0., 0.],\n",
       "       [0., 1., 0., 0., 0., 0.],\n",
       "       [0., 0., 1., 0., 0., 0.],\n",
       "       [0., 0., 0., 1., 0., 0.],\n",
       "       [0., 0., 0., 0., 1., 0.]], dtype=float32)"
      ]
     },
     "execution_count": 50,
     "metadata": {},
     "output_type": "execute_result"
    }
   ],
   "source": [
    "# Переведите его в формат numpy\n",
    "n.numpy()"
   ]
  },
  {
   "cell_type": "code",
   "execution_count": 52,
   "metadata": {
    "ExecuteTime": {
     "end_time": "2023-10-18T22:43:16.332234Z",
     "start_time": "2023-10-18T22:43:16.244464Z"
    }
   },
   "outputs": [
    {
     "name": "stdout",
     "output_type": "stream",
     "text": [
      "Iteration 1, x = 1.96, y = 4.85\n",
      "Iteration 11, x = 1.69, y = 4.12\n",
      "Iteration 21, x = 1.55, y = 3.92\n",
      "Iteration 31, x = 1.47, y = 3.85\n",
      "Iteration 41, x = 1.42, y = 3.83\n",
      "Iteration 51, x = 1.39, y = 3.82\n",
      "Iteration 61, x = 1.37, y = 3.82\n",
      "Iteration 71, x = 1.36, y = 3.82\n",
      "Iteration 81, x = 1.35, y = 3.82\n",
      "Iteration 91, x = 1.34, y = 3.82\n",
      "Iteration 101, x = 1.34, y = 3.81\n",
      "Iteration 111, x = 1.34, y = 3.81\n"
     ]
    }
   ],
   "source": [
    "# Давайте теперь пооптимизируем: возьмите функцию y = x**w1 - 2 * x**2 + 5\n",
    "# Посчитайте \n",
    "def function(x, w1):\n",
    "    return x**w1 - 2 * x**2 + 5\n",
    "\n",
    "def gradient(x):\n",
    "    return torch.autograd.grad(function(x, w1), x)[0]\n",
    "\n",
    "w1 = 3\n",
    "x = Variable(torch.Tensor([2]), requires_grad=True)\n",
    "learning_rate = 0.01\n",
    "num_iterations = 120\n",
    "for i in range(num_iterations):\n",
    "    x_grad = gradient(x)\n",
    "    x.data -= learning_rate * x_grad\n",
    "    if not i%10:\n",
    "        print(f\"Iteration {i+1}, x = {x.data[0]:.2f}, y = {function(x.data[0], w1):.2f}\")"
   ]
  }
 ],
 "metadata": {
  "kernelspec": {
   "display_name": "Python 3 (ipykernel)",
   "language": "python",
   "name": "python3"
  },
  "language_info": {
   "codemirror_mode": {
    "name": "ipython",
    "version": 3
   },
   "file_extension": ".py",
   "mimetype": "text/x-python",
   "name": "python",
   "nbconvert_exporter": "python",
   "pygments_lexer": "ipython3",
   "version": "3.9.17"
  },
  "varInspector": {
   "cols": {
    "lenName": 16,
    "lenType": 16,
    "lenVar": 40
   },
   "kernels_config": {
    "python": {
     "delete_cmd_postfix": "",
     "delete_cmd_prefix": "del ",
     "library": "var_list.py",
     "varRefreshCmd": "print(var_dic_list())"
    },
    "r": {
     "delete_cmd_postfix": ") ",
     "delete_cmd_prefix": "rm(",
     "library": "var_list.r",
     "varRefreshCmd": "cat(var_dic_list()) "
    }
   },
   "types_to_exclude": [
    "module",
    "function",
    "builtin_function_or_method",
    "instance",
    "_Feature"
   ],
   "window_display": false
  }
 },
 "nbformat": 4,
 "nbformat_minor": 2
}
